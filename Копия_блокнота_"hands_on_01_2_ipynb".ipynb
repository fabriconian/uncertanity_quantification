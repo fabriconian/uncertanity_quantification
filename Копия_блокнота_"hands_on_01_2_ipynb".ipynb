{
  "nbformat": 4,
  "nbformat_minor": 0,
  "metadata": {
    "kernelspec": {
      "display_name": "Python 3",
      "language": "python",
      "name": "python3"
    },
    "language_info": {
      "codemirror_mode": {
        "name": "ipython",
        "version": 3
      },
      "file_extension": ".py",
      "mimetype": "text/x-python",
      "name": "python",
      "nbconvert_exporter": "python",
      "pygments_lexer": "ipython3",
      "version": "3.7.7"
    },
    "colab": {
      "name": "Копия блокнота \"hands-on-01.2.ipynb\"",
      "provenance": [],
      "include_colab_link": true
    }
  },
  "cells": [
    {
      "cell_type": "markdown",
      "metadata": {
        "id": "view-in-github",
        "colab_type": "text"
      },
      "source": [
        "<a href=\"https://colab.research.google.com/github/fabriconian/uncertanity_quantification/blob/main/%D0%9A%D0%BE%D0%BF%D0%B8%D1%8F_%D0%B1%D0%BB%D0%BE%D0%BA%D0%BD%D0%BE%D1%82%D0%B0_%22hands_on_01_2_ipynb%22.ipynb\" target=\"_parent\"><img src=\"https://colab.research.google.com/assets/colab-badge.svg\" alt=\"Open In Colab\"/></a>"
      ]
    },
    {
      "cell_type": "code",
      "metadata": {
        "id": "BgPC-upC_XTj"
      },
      "source": [
        "# Import some basic libraries\n",
        "import numpy as np\n",
        "import matplotlib.pyplot as plt\n",
        "%matplotlib inline\n",
        "import seaborn as sns\n",
        "sns.set_context('paper')"
      ],
      "execution_count": null,
      "outputs": []
    },
    {
      "cell_type": "markdown",
      "metadata": {
        "id": "xYACArr6_XTq"
      },
      "source": [
        "# Hands-On Activity 1.2: The Model Calibration Problem\n",
        "\n",
        "## Objectives\n",
        "\n",
        "+ To introduce the model calibration problem.\n",
        "\n",
        "## The model calibration problem\n",
        "\n",
        "The model calibration problem is the inverse of the uncertainty propagation problem.\n",
        "That is why such problems are also called **inverse problems**.\n",
        "It goes as follows. \n",
        "One observes a quantity that is predicted by the model and they want to go back and characterize how this observation changes the state of knowledge about the parameters of the model.\n",
        "\n",
        "## Example: Driving a trailer on a rough road\n",
        "\n",
        "Remember the example of the previous handout: We have a trailer of mass $m$ moving on a rough road with speed $v$.\n",
        "The suspension spring constant is $k$.\n",
        "We are intersted in the vibration amplitude $X$.\n",
        "\n",
        "![Trailer](https://github.com/PredictiveScienceLab/data-analytics-se/blob/master/activities/trailer.png?raw=1)\n",
        "\n",
        "Imagine that we put sensors on the suspension of the trailer to measure the amplitude of oscillation.\n",
        "The amplitude that the sensors measure does not match exactly the prediction of the model.\n",
        "Why is that?\n",
        "First, there is observation noise.\n",
        "Second, our model has a systematic error (e.g., we have completely ignored dumping effects).\n",
        "So, *the measurement is not the same as the model prediction*.\n",
        "This means that we need to add one more node to the graphical representation of the model.\n",
        "The new node, let's call it $X_m$ is the result of the measurement."
      ]
    },
    {
      "cell_type": "code",
      "metadata": {
        "id": "zc4jku8Z_XTr"
      },
      "source": [
        "from graphviz import Digraph\n",
        "g = Digraph('Trailer')\n",
        "g.node('k')\n",
        "g.node('m')\n",
        "g.node('y0', label='<y<sub>0</sub>>')\n",
        "g.node('omega', label='<&omega;>')\n",
        "g.node('v')\n",
        "g.node('L')\n",
        "g.node('X')\n",
        "g.edge('v', 'omega')\n",
        "g.edge('L', 'omega')\n",
        "g.edge('y0', 'X')\n",
        "g.edge('omega', 'X')\n",
        "g.edge('k', 'X')\n",
        "g.edge('m', 'X')\n",
        "g.node('Xm', label='<X<sub>m</sub>>', style='filled')\n",
        "g.edge('X', 'Xm')\n",
        "#g.render('trailer_m_g', format='png')\n",
        "g"
      ],
      "execution_count": null,
      "outputs": []
    },
    {
      "cell_type": "markdown",
      "metadata": {
        "id": "HVMi4Dtf_XTs"
      },
      "source": [
        "We have filled the node $X_m$ with color to indicate that it is observed.\n",
        "Here the calibration problem consists of determining all unknown parameters given the sensor data.\n",
        "Of course, this particular model calibration is not very well defined.\n",
        "There is absolutely no hope that you can find all variables $k$, $m$, $y_0$, $v$, and $L$ from just a noisy measurment of the amplitude.\n",
        "The situation becomes a bit better if you decide to ignore the uncertainty in $k$ because it is determined very accurately, and you add sensors to measure the mass of the cart $m$ and the velocity of the speed of the vehicle $v$.\n",
        "Let $m_m$ and $v_m$ be the measurement from such sensors. The updated graph is:"
      ]
    },
    {
      "cell_type": "code",
      "metadata": {
        "id": "XfVU0Mfc_XTs"
      },
      "source": [
        "g = Digraph('Trailer')\n",
        "g.node('k', style='filled')\n",
        "g.node('m')\n",
        "g.node('mm', label='<m<sub>m</sub>>', style='filled')\n",
        "g.node('y0', label='<y<sub>0</sub>>')\n",
        "g.node('omega', label='<&omega;>')\n",
        "g.node('v')\n",
        "g.node('vm', label='<v<sub>m</sub>>', style='filled')\n",
        "g.node('L')\n",
        "g.node('X')\n",
        "g.edge('v', 'omega')\n",
        "g.edge('v', 'vm')\n",
        "g.edge('L', 'omega')\n",
        "g.edge('y0', 'X')\n",
        "g.edge('omega', 'X')\n",
        "g.edge('k', 'X')\n",
        "g.edge('m', 'X')\n",
        "g.edge('m', 'mm')\n",
        "g.node('Xm', label='<X<sub>m</sub>>', style='filled')\n",
        "g.edge('X', 'Xm')\n",
        "#g.render('trailer_m_g', format='png')\n",
        "g"
      ],
      "execution_count": null,
      "outputs": []
    },
    {
      "cell_type": "markdown",
      "metadata": {
        "id": "t7-aa-Xb_XTt"
      },
      "source": [
        "Now $y_0$ and $L$ would be identifiable.\n",
        "\n",
        "### Solving inverse problems\n",
        "\n",
        "We will need a couple of lectures to understand what is the right way to pose and solve the problem.\n",
        "But here is the answer:\n",
        "+ Quantify our **prior** state of knowledge about all the model parameters (by assigning probability densities to them).\n",
        "+ Use Bayes' rule to condition the prior knowledge on the observations. This updated knowledge is our **posterior knowledge**. Unfortunately, this posterior knowledge is rarely analytically available. This is why we need the third step.\n",
        "+ Create a practical procedure that characterizes our posterior state of knowledge.\n",
        "\n",
        "The majority of this class is about the third step."
      ]
    },
    {
      "cell_type": "markdown",
      "metadata": {
        "id": "AsYlg5cg_XTt"
      },
      "source": [
        "### Questions\n",
        "\n",
        "+ Modify the causal graph above to account for an indirect measurement of the spring stiffness. Hint: Add new node $k_m$ corresponding to an output of a \"stiffness\" sensor and connect it to $k$ with an appropriatly pointing arrow.\n",
        "+ Modify the causal model to add sensors that estimate the wavelength $L$ of the road oscilations, e.g., by taking and analyzing pictures of the road from a vehicle camera."
      ]
    }
  ]
}